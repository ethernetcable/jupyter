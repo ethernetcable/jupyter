{
 "cells": [
  {
   "cell_type": "markdown",
   "metadata": {},
   "source": [
    "# binary converter"
   ]
  },
  {
   "cell_type": "markdown",
   "metadata": {},
   "source": [
    "## without binascii"
   ]
  },
  {
   "cell_type": "code",
   "execution_count": 52,
   "metadata": {
    "collapsed": false
   },
   "outputs": [],
   "source": [
    "import string\n",
    "\n",
    "d = dict(zip(string.ascii_lowercase, range(97, 123)))\n",
    "st = []\n",
    "bn_list = []\n",
    "\n",
    "def to_dec(word):\n",
    "    for x in word:\n",
    "        if x == ' ':\n",
    "            st.append(32)\n",
    "        else:\n",
    "            st.append(d[x])\n",
    "        \n",
    "def binary(words):\n",
    "    to_dec(words)\n",
    "    digits = 8\n",
    "    global st\n",
    "    for x in st:\n",
    "        bn = bin(x)[2:]\n",
    "        bn_list.append(('0' * (digits - len(bn))) + bn)\n",
    "    print(''.join(bn_list))\n"
   ]
  },
  {
   "cell_type": "code",
   "execution_count": 53,
   "metadata": {
    "collapsed": false
   },
   "outputs": [
    {
     "name": "stdout",
     "output_type": "stream",
     "text": [
      "0110100001100101011011000110110001101111001000000111010001101000011001010111001001100101\n"
     ]
    }
   ],
   "source": [
    "binary('hello there')"
   ]
  },
  {
   "cell_type": "markdown",
   "metadata": {},
   "source": [
    "## with binascii"
   ]
  },
  {
   "cell_type": "code",
   "execution_count": 71,
   "metadata": {
    "collapsed": false
   },
   "outputs": [],
   "source": [
    "import binascii\n",
    "\n",
    "def to_binary():\n",
    "    x = input('text to be encoded into binary: \\n')\n",
    "    print('0' + str(bin(int.from_bytes(x.encode(), 'big')))[2:])\n",
    "    \n",
    "def to_text():\n",
    "    x = int(input('binary to be decoded: \\n'), 2)\n",
    "    print(x.to_bytes((x.bit_length() + 7) // 8, 'big').decode())"
   ]
  },
  {
   "cell_type": "code",
   "execution_count": 12,
   "metadata": {
    "collapsed": false
   },
   "outputs": [
    {
     "name": "stdout",
     "output_type": "stream",
     "text": [
      "text to be encoded into binary: \n",
      "hello there\n",
      "0110100001100101011011000110110001101111001000000111010001101000011001010111001001100101\n"
     ]
    }
   ],
   "source": [
    "to_binary()"
   ]
  },
  {
   "cell_type": "code",
   "execution_count": 72,
   "metadata": {
    "collapsed": false
   },
   "outputs": [
    {
     "name": "stdout",
     "output_type": "stream",
     "text": [
      "binary to be decoded: \n",
      "0110100001100101011011000110110001101111001000000111010001101000011001010111001001100101\n",
      "hello there\n"
     ]
    }
   ],
   "source": [
    "to_text()"
   ]
  },
  {
   "cell_type": "code",
   "execution_count": null,
   "metadata": {
    "collapsed": true
   },
   "outputs": [],
   "source": []
  }
 ],
 "metadata": {
  "kernelspec": {
   "display_name": "Python 3",
   "language": "python",
   "name": "python3"
  },
  "language_info": {
   "codemirror_mode": {
    "name": "ipython",
    "version": 3
   },
   "file_extension": ".py",
   "mimetype": "text/x-python",
   "name": "python",
   "nbconvert_exporter": "python",
   "pygments_lexer": "ipython3",
   "version": "3.4.1"
  }
 },
 "nbformat": 4,
 "nbformat_minor": 1
}
